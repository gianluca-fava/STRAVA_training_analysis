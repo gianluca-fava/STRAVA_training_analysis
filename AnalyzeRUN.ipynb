{
 "cells": [
  {
   "cell_type": "code",
   "execution_count": 45,
   "outputs": [],
   "source": [
    "import requests\n",
    "import urllib3\n",
    "import os\n",
    "from dotenv import load_dotenv\n"
   ],
   "metadata": {
    "collapsed": false,
    "ExecuteTime": {
     "end_time": "2024-03-05T12:17:38.866742Z",
     "start_time": "2024-03-05T12:17:38.854937Z"
    }
   },
   "id": "initial_id"
  },
  {
   "cell_type": "code",
   "execution_count": 46,
   "outputs": [],
   "source": [
    "## READ .env\n",
    "\n",
    "# Load environment variables from file .env\n",
    "dotenv_path = os.path.join('PRIVATE', '.env')\n",
    "load_dotenv(dotenv_path)\n",
    "\n",
    "# Construct the payload using environment variables\n",
    "payload = {\n",
    "    'client_id': os.getenv('CLIENT_ID'),\n",
    "    'client_secret': os.getenv('CLIENT_SECRET'),\n",
    "    'refresh_token': os.getenv('REFRESH_TOKEN'),\n",
    "    'grant_type': \"refresh_token\",\n",
    "    'f': 'json'\n",
    "}"
   ],
   "metadata": {
    "collapsed": false,
    "ExecuteTime": {
     "end_time": "2024-03-05T12:17:39.029559Z",
     "start_time": "2024-03-05T12:17:39.014344Z"
    }
   },
   "id": "e86de41083c0dc8d"
  },
  {
   "cell_type": "code",
   "execution_count": 60,
   "outputs": [],
   "source": [
    "auth_url = \"https://www.strava.com/oauth/token\"   # URL for requesting authorization token from Strava\n",
    "activites_url = \"https://www.strava.com/api/v3/athlete/activities\"   # URL for retrieving activities data from Strava API\n",
    "\n",
    "# Sending a request to Strava to obtain permission\n",
    "res = requests.post(auth_url, data=payload, verify=False)\n",
    "access_token = res.json()['access_token']\n",
    "\n",
    "header = {'Authorization': 'Bearer ' + access_token}   # Constructing the header with the access token for authorization\n",
    "\n",
    "# Setting parameters for the request to retrieve activities data\n",
    "param = {'per_page': 200, 'page': 1}\n",
    "my_dataset = requests.get(activites_url, headers=header, params=param).json()"
   ],
   "metadata": {
    "collapsed": false,
    "ExecuteTime": {
     "end_time": "2024-03-05T12:26:55.440460Z",
     "start_time": "2024-03-05T12:26:52.472022Z"
    }
   },
   "id": "a3cdf6b7cccb670b"
  }
 ],
 "metadata": {
  "kernelspec": {
   "display_name": "Python 3",
   "language": "python",
   "name": "python3"
  },
  "language_info": {
   "codemirror_mode": {
    "name": "ipython",
    "version": 2
   },
   "file_extension": ".py",
   "mimetype": "text/x-python",
   "name": "python",
   "nbconvert_exporter": "python",
   "pygments_lexer": "ipython2",
   "version": "2.7.6"
  }
 },
 "nbformat": 4,
 "nbformat_minor": 5
}
