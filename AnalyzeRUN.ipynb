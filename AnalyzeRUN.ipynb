{
 "cells": [
  {
   "cell_type": "code",
   "execution_count": 3,
   "outputs": [],
   "source": [
    "import requests\n",
    "import urllib3\n",
    "import os\n"
   ],
   "metadata": {
    "collapsed": false,
    "ExecuteTime": {
     "end_time": "2024-03-05T09:31:54.386971Z",
     "start_time": "2024-03-05T09:31:54.376203Z"
    }
   },
   "id": "initial_id"
  },
  {
   "cell_type": "code",
   "execution_count": 5,
   "outputs": [
    {
     "name": "stdout",
     "output_type": "stream",
     "text": [
      "{'client_id': None, 'client_secret': None, 'refresh_token': None, 'grant_type': 'refresh_token', 'f': 'json'}\n"
     ]
    }
   ],
   "source": [
    "'''\n",
    "create an .env file and enter the following information:\n",
    "CLIENT_ID=xxxx\n",
    "CLIENT_SECRET=xxxx\n",
    "REFRESH_TOKEN=xxxx\n",
    "'''\n",
    "\n",
    "#read the file .env\n",
    "payload = {\n",
    "    'client_id': os.getenv('CLIENT_ID'),\n",
    "    'client_secret': os.getenv('CLIENT_SECRET'),\n",
    "    'refresh_token': os.getenv('REFRESH_TOKEN'),\n",
    "    'grant_type': \"refresh_token\",\n",
    "    'f': 'json'\n",
    "}\n",
    "print(payload)"
   ],
   "metadata": {
    "collapsed": false,
    "ExecuteTime": {
     "end_time": "2024-03-05T09:34:47.684351Z",
     "start_time": "2024-03-05T09:34:47.673566Z"
    }
   },
   "id": "e86de41083c0dc8d"
  },
  {
   "cell_type": "code",
   "execution_count": null,
   "outputs": [],
   "source": [],
   "metadata": {
    "collapsed": false
   },
   "id": "a3cdf6b7cccb670b"
  }
 ],
 "metadata": {
  "kernelspec": {
   "display_name": "Python 3",
   "language": "python",
   "name": "python3"
  },
  "language_info": {
   "codemirror_mode": {
    "name": "ipython",
    "version": 2
   },
   "file_extension": ".py",
   "mimetype": "text/x-python",
   "name": "python",
   "nbconvert_exporter": "python",
   "pygments_lexer": "ipython2",
   "version": "2.7.6"
  }
 },
 "nbformat": 4,
 "nbformat_minor": 5
}
