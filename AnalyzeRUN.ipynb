{
 "cells": [
  {
   "cell_type": "code",
   "execution_count": 3,
   "outputs": [],
   "source": [
    "import requests\n",
    "import urllib3\n",
    "import os\n",
    "from dotenv import load_dotenv\n"
   ],
   "metadata": {
    "collapsed": false,
    "ExecuteTime": {
     "end_time": "2024-03-05T09:31:54.386971Z",
     "start_time": "2024-03-05T09:31:54.376203Z"
    }
   },
   "id": "initial_id"
  },
  {
   "cell_type": "code",
   "execution_count": 16,
   "outputs": [],
   "source": [
    "# Define the path to the .env file\n",
    "dotenv_path = os.path.join('PRIVATE', '.env')\n",
    "\n",
    "# Read the .env file\n",
    "file = open(dotenv_path, 'r')\n",
    "lines = file.readlines()\n",
    "file.close()\n",
    "\n",
    "# Parse environment variables\n",
    "env_vars = {}\n",
    "for line in lines:\n",
    "    key, value = line.strip().split('=')\n",
    "    env_vars[key] = value\n",
    "\n",
    "# Construct the payload using environment variables\n",
    "payload = {\n",
    "    'client_id': env_vars.get('CLIENT_ID'),\n",
    "    'client_secret': env_vars.get('CLIENT_SECRET'),\n",
    "    'refresh_token': env_vars.get('REFRESH_TOKEN'),\n",
    "    'grant_type': \"refresh_token\",\n",
    "    'f': 'json'\n",
    "}\n",
    "\n"
   ],
   "metadata": {
    "collapsed": false,
    "ExecuteTime": {
     "end_time": "2024-03-05T09:56:51.758290Z",
     "start_time": "2024-03-05T09:56:51.751445Z"
    }
   },
   "id": "e86de41083c0dc8d"
  },
  {
   "cell_type": "code",
   "execution_count": null,
   "outputs": [],
   "source": [],
   "metadata": {
    "collapsed": false
   },
   "id": "a3cdf6b7cccb670b"
  }
 ],
 "metadata": {
  "kernelspec": {
   "display_name": "Python 3",
   "language": "python",
   "name": "python3"
  },
  "language_info": {
   "codemirror_mode": {
    "name": "ipython",
    "version": 2
   },
   "file_extension": ".py",
   "mimetype": "text/x-python",
   "name": "python",
   "nbconvert_exporter": "python",
   "pygments_lexer": "ipython2",
   "version": "2.7.6"
  }
 },
 "nbformat": 4,
 "nbformat_minor": 5
}
