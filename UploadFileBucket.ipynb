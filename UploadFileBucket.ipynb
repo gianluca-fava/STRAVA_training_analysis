{
 "cells": [
  {
   "cell_type": "code",
   "execution_count": 2,
   "id": "initial_id",
   "metadata": {
    "collapsed": true,
    "ExecuteTime": {
     "end_time": "2024-03-30T20:19:48.928414Z",
     "start_time": "2024-03-30T20:19:48.643663Z"
    }
   },
   "outputs": [],
   "source": [
    "import boto3\n",
    "import os\n",
    "from dotenv import load_dotenv"
   ]
  },
  {
   "cell_type": "code",
   "execution_count": 5,
   "outputs": [
    {
     "name": "stdout",
     "output_type": "stream",
     "text": [
      "Uploaded stylesheet.css to strava-web-bucket\n",
      "Uploaded index.html to strava-web-bucket\n",
      "Uploaded map_polyline2.html to strava-web-bucket\n",
      "Folder 'Data':\n",
      "Uploaded data_detailed.json to strava-web-bucket/data_detailed.json\n",
      "Uploaded data_detailed2.json to strava-web-bucket/data_detailed2.json\n",
      "Uploaded monthly_distance_run.json to strava-web-bucket/monthly_distance_run.json\n",
      "Uploaded data.json to strava-web-bucket/data.json\n",
      "Uploaded month_activity.json to strava-web-bucket/month_activity.json\n"
     ]
    }
   ],
   "source": [
    "dotenv_path = os.path.join('PRIVATE', '.env')\n",
    "load_dotenv(dotenv_path)\n",
    "\n",
    "BUCKET_NAME = os.getenv('BUCKET_NAME')\n",
    "files_to_upload = ['stylesheet.css', 'index.html', 'map_polyline2.html']  # List of files to upload on AWS\n",
    "folder_to_upload = ['Data']\n",
    "\n",
    "client = boto3.client('s3', region_name='eu-central-1')  \n",
    "\n",
    "#Load file\n",
    "for file in files_to_upload:\n",
    "    # detect the type of file\n",
    "    content_type = 'text/html' if file.endswith('.html') else \\\n",
    "                   'text/css' if file.endswith('.css') else \\\n",
    "                   'application/javascript'\n",
    "    # ACL on public\n",
    "    extra_args = {\n",
    "        'ContentType': content_type,\n",
    "        'ACL': 'public-read'\n",
    "    }\n",
    "    # Upload\n",
    "    client.upload_file(file, BUCKET_NAME, file, ExtraArgs=extra_args)\n",
    "    print(f\"Uploaded {file} to {BUCKET_NAME}\")\n",
    "\n",
    "#Upload folder    \n",
    "for folder in folder_to_upload:\n",
    "    print(f\"Folder '{folder}':\")\n",
    "    for root, dirs, files in os.walk(folder):\n",
    "        for file in files:\n",
    "            file_path = os.path.join(root, file)\n",
    "            relative_path = os.path.relpath(file_path, start=folder)  # Calculate the relative path to the base folder\n",
    "            # ACL on public\n",
    "            extra_args = {\n",
    "                'ACL': 'public-read'\n",
    "            }        \n",
    "            # Upload file on S3\n",
    "            client.upload_file(file_path, BUCKET_NAME, f'{folder}/{relative_path}', ExtraArgs=extra_args)\n",
    "            print(f\"Uploaded {relative_path} to {BUCKET_NAME}/{relative_path}\")\n",
    "            "
   ],
   "metadata": {
    "collapsed": false,
    "ExecuteTime": {
     "end_time": "2024-03-30T20:27:58.195119Z",
     "start_time": "2024-03-30T20:27:52.303040Z"
    }
   },
   "id": "a648d4c7bb8b0e8a"
  },
  {
   "cell_type": "code",
   "execution_count": 18,
   "outputs": [
    {
     "name": "stdout",
     "output_type": "stream",
     "text": [
      "201\n",
      "200\n",
      "Elementi mancanti in data_detailed rispetto a data: []\n",
      "Elementi mancanti in data rispetto a data_detailed: []\n"
     ]
    }
   ],
   "source": [
    "# Importa il modulo JSON\n",
    "import json\n",
    "\n",
    "with open('Data/data_detailed.json', 'r') as file:\n",
    "    data_detailed = json.load(file)\n",
    "    \n",
    "with open('Data/data.json', 'r') as file:\n",
    "    data = json.load(file)\n",
    "    \n",
    "# Estrai le liste di nomi dalle due liste JSON\n",
    "list_data = [a['name'] for a in data]\n",
    "list_data_detailed = [a['name'] for a in data_detailed]\n",
    "\n",
    "# Trova gli elementi mancanti in list_data_detailed rispetto a list_data\n",
    "missing_in_data_detailed = [name for name in list_data if name not in list_data_detailed]\n",
    "\n",
    "# Trova gli elementi mancanti in list_data rispetto a list_data_detailed\n",
    "missing_in_data = [name for name in list_data_detailed if name not in list_data]\n",
    "\n",
    "print(len(data_detailed))\n",
    "print(len(data))\n",
    "print(\"Elementi mancanti in data_detailed rispetto a data:\", missing_in_data_detailed)\n",
    "print(\"Elementi mancanti in data rispetto a data_detailed:\", missing_in_data)"
   ],
   "metadata": {
    "collapsed": false,
    "ExecuteTime": {
     "end_time": "2024-03-29T17:52:11.432704Z",
     "start_time": "2024-03-29T17:52:11.353942Z"
    }
   },
   "id": "e6e1e8c5f26538b1"
  },
  {
   "cell_type": "code",
   "execution_count": null,
   "outputs": [],
   "source": [],
   "metadata": {
    "collapsed": false
   },
   "id": "9a2bba731b7aeedb"
  }
 ],
 "metadata": {
  "kernelspec": {
   "display_name": "Python 3",
   "language": "python",
   "name": "python3"
  },
  "language_info": {
   "codemirror_mode": {
    "name": "ipython",
    "version": 2
   },
   "file_extension": ".py",
   "mimetype": "text/x-python",
   "name": "python",
   "nbconvert_exporter": "python",
   "pygments_lexer": "ipython2",
   "version": "2.7.6"
  }
 },
 "nbformat": 4,
 "nbformat_minor": 5
}
