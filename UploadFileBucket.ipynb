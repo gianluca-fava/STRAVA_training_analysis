{
 "cells": [
  {
   "cell_type": "code",
   "execution_count": 4,
   "id": "initial_id",
   "metadata": {
    "collapsed": true,
    "ExecuteTime": {
     "end_time": "2024-03-24T17:15:56.534501Z",
     "start_time": "2024-03-24T17:15:56.527046Z"
    }
   },
   "outputs": [],
   "source": [
    "import boto3\n",
    "import os\n",
    "from dotenv import load_dotenv"
   ]
  },
  {
   "cell_type": "code",
   "execution_count": 561,
   "outputs": [
    {
     "name": "stdout",
     "output_type": "stream",
     "text": [
      "Uploaded index.html to strava-web-bucket\n",
      "Uploaded map_polyline2.html to strava-web-bucket\n"
     ]
    }
   ],
   "source": [
    "dotenv_path = os.path.join('PRIVATE', '.env')\n",
    "load_dotenv(dotenv_path)\n",
    "\n",
    "BUCKET_NAME = os.getenv('BUCKET_NAME')\n",
    "files_to_upload = ['index.html', 'map_polyline2.html']  # List of files to upload on AWS\n",
    "client = boto3.client('s3', region_name='eu-central-1')  \n",
    "\n",
    "for file in files_to_upload:\n",
    "    \n",
    "    # detect the type of file\n",
    "    content_type = 'text/html' if file.endswith('.html') else \\\n",
    "                   'text/css' if file.endswith('.css') else \\\n",
    "                   'application/javascript'\n",
    "    \n",
    "    # ACL on public\n",
    "    extra_args = {\n",
    "        'ContentType': content_type,\n",
    "        'ACL': 'public-read'\n",
    "    }\n",
    "\n",
    "    # Upload\n",
    "    client.upload_file(file, BUCKET_NAME, file, ExtraArgs=extra_args)\n",
    "    print(f\"Uploaded {file} to {BUCKET_NAME}\")"
   ],
   "metadata": {
    "collapsed": false,
    "ExecuteTime": {
     "end_time": "2024-03-24T20:03:39.207647Z",
     "start_time": "2024-03-24T20:03:36.612185Z"
    }
   },
   "id": "a648d4c7bb8b0e8a"
  },
  {
   "cell_type": "code",
   "execution_count": 560,
   "outputs": [
    {
     "name": "stdout",
     "output_type": "stream",
     "text": [
      "201\n",
      "200\n",
      "Elementi mancanti in data_detailed rispetto a data: []\n",
      "Elementi mancanti in data rispetto a data_detailed: []\n"
     ]
    }
   ],
   "source": [
    "# Importa il modulo JSON\n",
    "import json\n",
    "\n",
    "with open('Data/data_detailed.json', 'r') as file:\n",
    "    data_detailed = json.load(file)\n",
    "    \n",
    "with open('Data/data.json', 'r') as file:\n",
    "    data = json.load(file)\n",
    "    \n",
    "# Estrai le liste di nomi dalle due liste JSON\n",
    "list_data = [a['name'] for a in data]\n",
    "list_data_detailed = [a['name'] for a in data_detailed]\n",
    "\n",
    "# Trova gli elementi mancanti in list_data_detailed rispetto a list_data\n",
    "missing_in_data_detailed = [name for name in list_data if name not in list_data_detailed]\n",
    "\n",
    "# Trova gli elementi mancanti in list_data rispetto a list_data_detailed\n",
    "missing_in_data = [name for name in list_data_detailed if name not in list_data]\n",
    "\n",
    "print(len(data_detailed))\n",
    "print(len(data))\n",
    "print(\"Elementi mancanti in data_detailed rispetto a data:\", missing_in_data_detailed)\n",
    "print(\"Elementi mancanti in data rispetto a data_detailed:\", missing_in_data)\n",
    "\n"
   ],
   "metadata": {
    "collapsed": false,
    "ExecuteTime": {
     "end_time": "2024-03-24T20:03:06.371026Z",
     "start_time": "2024-03-24T20:03:06.307797Z"
    }
   },
   "id": "e6e1e8c5f26538b1"
  },
  {
   "cell_type": "code",
   "execution_count": 555,
   "outputs": [],
   "source": [
    "import random\n",
    "import numpy as np\n",
    "import matplotlib.pyplot as plt\n",
    "import random\n",
    "\n",
    "with open('Data/data_detailed.json', 'r') as file:\n",
    "    data_detailed = json.load(file)\n",
    "\n",
    "def generate_color(color_in):\n",
    "    if color_in == 'red':\n",
    "        # types of red to choose from\n",
    "        type_of_red = [\"#DF2424\", '#B01111', '#9E0F0F', '#EC4040', '#FF0000', '#BC0000', '#A42B2B']\n",
    "\n",
    "        # Random selection of a red type in HEX format\n",
    "        casual_index = random.randint(0, len(type_of_red) - 1)\n",
    "        color = type_of_red[casual_index]\n",
    "\n",
    "\n",
    "    elif color_in == 'blue':\n",
    "        # types of red to choose from\n",
    "        type_of_blue = ['#0036FF', '#082DB8', '#2A51DF', '#032397', '#0000FF', '#1356B8', '#0C0574']\n",
    "\n",
    "        # Random selection of a red type in HEX format\n",
    "        casual_index = random.randint(0, len(type_of_blue) - 1)\n",
    "        color = type_of_blue[casual_index]\n",
    "\n",
    "    return color\n",
    "\n",
    "\n",
    "for activity in data_detailed:\n",
    "    if 'Ferrat' in activity['name']:\n",
    "        activity['color'] = generate_color('red')\n",
    "    else:\n",
    "        activity['color'] =  generate_color('blue')\n",
    "        \n",
    "with open(\"Data/data_detailed.json\", \"w\") as file:\n",
    "    json.dump(data_detailed, file, indent=4)"
   ],
   "metadata": {
    "collapsed": false,
    "ExecuteTime": {
     "end_time": "2024-03-24T19:53:48.725979Z",
     "start_time": "2024-03-24T19:53:48.478581Z"
    }
   },
   "id": "415125b29577c275"
  },
  {
   "cell_type": "code",
   "execution_count": 338,
   "outputs": [],
   "source": [],
   "metadata": {
    "collapsed": false,
    "ExecuteTime": {
     "end_time": "2024-03-24T19:17:08.251462Z",
     "start_time": "2024-03-24T19:17:08.227998Z"
    }
   },
   "id": "9848478a01bcb478"
  },
  {
   "cell_type": "code",
   "execution_count": null,
   "outputs": [],
   "source": [],
   "metadata": {
    "collapsed": false
   },
   "id": "9a2bba731b7aeedb"
  }
 ],
 "metadata": {
  "kernelspec": {
   "display_name": "Python 3",
   "language": "python",
   "name": "python3"
  },
  "language_info": {
   "codemirror_mode": {
    "name": "ipython",
    "version": 2
   },
   "file_extension": ".py",
   "mimetype": "text/x-python",
   "name": "python",
   "nbconvert_exporter": "python",
   "pygments_lexer": "ipython2",
   "version": "2.7.6"
  }
 },
 "nbformat": 4,
 "nbformat_minor": 5
}
