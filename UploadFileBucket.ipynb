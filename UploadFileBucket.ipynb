{
 "cells": [
  {
   "cell_type": "code",
   "execution_count": 2,
   "id": "initial_id",
   "metadata": {
    "collapsed": true,
    "ExecuteTime": {
     "end_time": "2024-03-29T17:28:01.032220Z",
     "start_time": "2024-03-29T17:28:00.843382Z"
    }
   },
   "outputs": [],
   "source": [
    "import boto3\n",
    "import os\n",
    "from dotenv import load_dotenv"
   ]
  },
  {
   "cell_type": "code",
   "execution_count": 20,
   "outputs": [
    {
     "name": "stdout",
     "output_type": "stream",
     "text": [
      "Uploaded stylesheet.css to strava-web-bucket\n",
      "Uploaded index.html to strava-web-bucket\n",
      "Uploaded map_polyline2.html to strava-web-bucket\n",
      "Folder 'Figure':\n",
      "Uploaded km_month_run.jpg to strava-web-bucket/km_month_run.jpg\n",
      "Uploaded km_month_hike.jpg to strava-web-bucket/km_month_hike.jpg\n",
      "Uploaded logo.png to strava-web-bucket/logo.png\n",
      "Folder 'Data':\n",
      "Uploaded data_detailed.json to strava-web-bucket/data_detailed.json\n",
      "Uploaded data_detailed2.json to strava-web-bucket/data_detailed2.json\n",
      "Uploaded data.json to strava-web-bucket/data.json\n",
      "Folder 'GPX':\n",
      "Uploaded escursione_verso_il_visentin_track.gpx to strava-web-bucket/escursione_verso_il_visentin_track.gpx\n",
      "Uploaded ferrata_strobel__track.gpx to strava-web-bucket/ferrata_strobel__track.gpx\n",
      "Uploaded lago_di_coldai_invernale_track.gpx to strava-web-bucket/lago_di_coldai_invernale_track.gpx\n",
      "Uploaded rifugio_7°alpini_track.gpx to strava-web-bucket/rifugio_7°alpini_track.gpx\n",
      "Uploaded lago_federa_-_traccia_scorretta_🫤_track.gpx to strava-web-bucket/lago_federa_-_traccia_scorretta_🫤_track.gpx\n",
      "Uploaded rifugio_semenza_-_drone_perso_ma_ritrovato_track.gpx to strava-web-bucket/rifugio_semenza_-_drone_perso_ma_ritrovato_track.gpx\n",
      "Uploaded ferrata_sass_brusai_+_carlo_guzzella_track.gpx to strava-web-bucket/ferrata_sass_brusai_+_carlo_guzzella_track.gpx\n",
      "Uploaded sentiero_busatte-tempesta_track.gpx to strava-web-bucket/sentiero_busatte-tempesta_track.gpx\n",
      "Uploaded lago_di_vernago_track.gpx to strava-web-bucket/lago_di_vernago_track.gpx\n",
      "Uploaded rifugio_dolomieu_a_forcella_della_lastra_track.gpx to strava-web-bucket/rifugio_dolomieu_a_forcella_della_lastra_track.gpx\n",
      "Uploaded soller_-_la_pera_track.gpx to strava-web-bucket/soller_-_la_pera_track.gpx\n",
      "Uploaded ferrata_della_memoria_track.gpx to strava-web-bucket/ferrata_della_memoria_track.gpx\n",
      "Uploaded camminata_sulla_neve_pian_dele_femene_track.gpx to strava-web-bucket/camminata_sulla_neve_pian_dele_femene_track.gpx\n",
      "Uploaded camminata_in_notturna_track.gpx to strava-web-bucket/camminata_in_notturna_track.gpx\n",
      "Uploaded la_posa_track.gpx to strava-web-bucket/la_posa_track.gpx\n",
      "Uploaded ferrate_c+a_palestra_di_roccia_cal_gallina_track.gpx to strava-web-bucket/ferrate_c+a_palestra_di_roccia_cal_gallina_track.gpx\n",
      "Uploaded ferrata_olivieri_a_punta_anna_track.gpx to strava-web-bucket/ferrata_olivieri_a_punta_anna_track.gpx\n",
      "Uploaded ferrata_bovero_a_col_rosà_track.gpx to strava-web-bucket/ferrata_bovero_a_col_rosà_track.gpx\n",
      "Uploaded rifugio_antelao_track.gpx to strava-web-bucket/rifugio_antelao_track.gpx\n",
      "Uploaded passo_staulanza_-_rifugio_città_di_fiume_track.gpx to strava-web-bucket/passo_staulanza_-_rifugio_città_di_fiume_track.gpx\n",
      "Uploaded camminata_a_vermigo_track.gpx to strava-web-bucket/camminata_a_vermigo_track.gpx\n",
      "Uploaded camminata_cascate_di_saent_track.gpx to strava-web-bucket/camminata_cascate_di_saent_track.gpx\n",
      "Uploaded palafavera_a_rifugio_città_di_fiume_track.gpx to strava-web-bucket/palafavera_a_rifugio_città_di_fiume_track.gpx\n",
      "Uploaded ferrata_rio_secco_track.gpx to strava-web-bucket/ferrata_rio_secco_track.gpx\n",
      "Uploaded pizzoc_track.gpx to strava-web-bucket/pizzoc_track.gpx\n",
      "Uploaded vernago_-_maso_corto_track.gpx to strava-web-bucket/vernago_-_maso_corto_track.gpx\n",
      "Uploaded da_malga_cate_a_forcella_sestrier_track.gpx to strava-web-bucket/da_malga_cate_a_forcella_sestrier_track.gpx\n",
      "Uploaded escursione_pomeridiana_track.gpx to strava-web-bucket/escursione_pomeridiana_track.gpx\n",
      "Uploaded escursione_post_ferrata_“larix”_track.gpx to strava-web-bucket/escursione_post_ferrata_“larix”_track.gpx\n",
      "Uploaded giro_al_pizzoc_track.gpx to strava-web-bucket/giro_al_pizzoc_track.gpx\n",
      "Uploaded escursione_da_maso_corto_track.gpx to strava-web-bucket/escursione_da_maso_corto_track.gpx\n",
      "Uploaded escursione_creta_di_collinetta_track.gpx to strava-web-bucket/escursione_creta_di_collinetta_track.gpx\n",
      "Uploaded escursione_all’ora_di_pranzo_track.gpx to strava-web-bucket/escursione_all’ora_di_pranzo_track.gpx\n",
      "Uploaded ferrata_sass_brusai_track.gpx to strava-web-bucket/ferrata_sass_brusai_track.gpx\n",
      "Uploaded fov_al_lago_dei_caprioli_track.gpx to strava-web-bucket/fov_al_lago_dei_caprioli_track.gpx\n",
      "Uploaded ferrata_sci_club18_track.gpx to strava-web-bucket/ferrata_sci_club18_track.gpx\n",
      "Uploaded ferrata_carlo_guzzella__track.gpx to strava-web-bucket/ferrata_carlo_guzzella__track.gpx\n",
      "Uploaded lago_di_carezza_track.gpx to strava-web-bucket/lago_di_carezza_track.gpx\n",
      "Uploaded vernago_track.gpx to strava-web-bucket/vernago_track.gpx\n",
      "Uploaded escursione_serale_track.gpx to strava-web-bucket/escursione_serale_track.gpx\n",
      "Uploaded soller_-_posa__track.gpx to strava-web-bucket/soller_-_posa__track.gpx\n",
      "Uploaded lago_di_coldai_track.gpx to strava-web-bucket/lago_di_coldai_track.gpx\n",
      "Uploaded lago_di_covel_track.gpx to strava-web-bucket/lago_di_covel_track.gpx\n",
      "Uploaded ciaspolata_pian_cansiglio_track.gpx to strava-web-bucket/ciaspolata_pian_cansiglio_track.gpx\n",
      "Uploaded rifugio_dei_loff_e_casera_costa_curta__track.gpx to strava-web-bucket/rifugio_dei_loff_e_casera_costa_curta__track.gpx\n",
      "Uploaded ferrata_monte_coppolo_track.gpx to strava-web-bucket/ferrata_monte_coppolo_track.gpx\n",
      "Uploaded giro_sul_pelmo_track.gpx to strava-web-bucket/giro_sul_pelmo_track.gpx\n",
      "Uploaded giro_lago_di_malghetta_e_dei_3_laghi_track.gpx to strava-web-bucket/giro_lago_di_malghetta_e_dei_3_laghi_track.gpx\n",
      "Uploaded soller_-_la_pera_-_la_posa_-_sottocroda_track.gpx to strava-web-bucket/soller_-_la_pera_-_la_posa_-_sottocroda_track.gpx\n",
      "Uploaded col_de_moi_in_notturna_track.gpx to strava-web-bucket/col_de_moi_in_notturna_track.gpx\n",
      "Uploaded soller_-_la_posa_-_pian_dele_femene_track.gpx to strava-web-bucket/soller_-_la_posa_-_pian_dele_femene_track.gpx\n",
      "Uploaded rifugio_scarpa_track.gpx to strava-web-bucket/rifugio_scarpa_track.gpx\n",
      "Uploaded ferrata_degli_alleghesi_track.gpx to strava-web-bucket/ferrata_degli_alleghesi_track.gpx\n",
      "Uploaded escursione_mattutina_track.gpx to strava-web-bucket/escursione_mattutina_track.gpx\n",
      "Uploaded ferrata_piccolin_a_cima_d’auta_track.gpx to strava-web-bucket/ferrata_piccolin_a_cima_d’auta_track.gpx\n",
      "Uploaded sentiero_viote_track.gpx to strava-web-bucket/sentiero_viote_track.gpx\n"
     ]
    }
   ],
   "source": [
    "dotenv_path = os.path.join('PRIVATE', '.env')\n",
    "load_dotenv(dotenv_path)\n",
    "\n",
    "BUCKET_NAME = os.getenv('BUCKET_NAME')\n",
    "files_to_upload = ['stylesheet.css', 'index.html', 'map_polyline2.html']  # List of files to upload on AWS\n",
    "folder_to_upload = ['Figure', 'Data', 'GPX']\n",
    "\n",
    "client = boto3.client('s3', region_name='eu-central-1')  \n",
    "\n",
    "#Load file\n",
    "for file in files_to_upload:\n",
    "    # detect the type of file\n",
    "    content_type = 'text/html' if file.endswith('.html') else \\\n",
    "                   'text/css' if file.endswith('.css') else \\\n",
    "                   'application/javascript'\n",
    "    # ACL on public\n",
    "    extra_args = {\n",
    "        'ContentType': content_type,\n",
    "        'ACL': 'public-read'\n",
    "    }\n",
    "    # Upload\n",
    "    client.upload_file(file, BUCKET_NAME, file, ExtraArgs=extra_args)\n",
    "    print(f\"Uploaded {file} to {BUCKET_NAME}\")\n",
    "\n",
    "#Upload folder    \n",
    "for folder in folder_to_upload:\n",
    "    print(f\"Folder '{folder}':\")\n",
    "    for root, dirs, files in os.walk(folder):\n",
    "        for file in files:\n",
    "            file_path = os.path.join(root, file)\n",
    "            relative_path = os.path.relpath(file_path, start=folder)  # Calculate the relative path to the base folder\n",
    "            # ACL on public\n",
    "            extra_args = {\n",
    "                'ACL': 'public-read'\n",
    "            }        \n",
    "            # Upload file on S3\n",
    "            client.upload_file(file_path, BUCKET_NAME, f'{folder}/{relative_path}', ExtraArgs=extra_args)\n",
    "            print(f\"Uploaded {relative_path} to {BUCKET_NAME}/{relative_path}\")\n",
    "            "
   ],
   "metadata": {
    "collapsed": false,
    "ExecuteTime": {
     "end_time": "2024-03-29T17:56:43.802318Z",
     "start_time": "2024-03-29T17:56:29.903014Z"
    }
   },
   "id": "a648d4c7bb8b0e8a"
  },
  {
   "cell_type": "code",
   "execution_count": 18,
   "outputs": [
    {
     "name": "stdout",
     "output_type": "stream",
     "text": [
      "201\n",
      "200\n",
      "Elementi mancanti in data_detailed rispetto a data: []\n",
      "Elementi mancanti in data rispetto a data_detailed: []\n"
     ]
    }
   ],
   "source": [
    "# Importa il modulo JSON\n",
    "import json\n",
    "\n",
    "with open('Data/data_detailed.json', 'r') as file:\n",
    "    data_detailed = json.load(file)\n",
    "    \n",
    "with open('Data/data.json', 'r') as file:\n",
    "    data = json.load(file)\n",
    "    \n",
    "# Estrai le liste di nomi dalle due liste JSON\n",
    "list_data = [a['name'] for a in data]\n",
    "list_data_detailed = [a['name'] for a in data_detailed]\n",
    "\n",
    "# Trova gli elementi mancanti in list_data_detailed rispetto a list_data\n",
    "missing_in_data_detailed = [name for name in list_data if name not in list_data_detailed]\n",
    "\n",
    "# Trova gli elementi mancanti in list_data rispetto a list_data_detailed\n",
    "missing_in_data = [name for name in list_data_detailed if name not in list_data]\n",
    "\n",
    "print(len(data_detailed))\n",
    "print(len(data))\n",
    "print(\"Elementi mancanti in data_detailed rispetto a data:\", missing_in_data_detailed)\n",
    "print(\"Elementi mancanti in data rispetto a data_detailed:\", missing_in_data)"
   ],
   "metadata": {
    "collapsed": false,
    "ExecuteTime": {
     "end_time": "2024-03-29T17:52:11.432704Z",
     "start_time": "2024-03-29T17:52:11.353942Z"
    }
   },
   "id": "e6e1e8c5f26538b1"
  },
  {
   "cell_type": "code",
   "execution_count": null,
   "outputs": [],
   "source": [],
   "metadata": {
    "collapsed": false
   },
   "id": "9a2bba731b7aeedb"
  }
 ],
 "metadata": {
  "kernelspec": {
   "display_name": "Python 3",
   "language": "python",
   "name": "python3"
  },
  "language_info": {
   "codemirror_mode": {
    "name": "ipython",
    "version": 2
   },
   "file_extension": ".py",
   "mimetype": "text/x-python",
   "name": "python",
   "nbconvert_exporter": "python",
   "pygments_lexer": "ipython2",
   "version": "2.7.6"
  }
 },
 "nbformat": 4,
 "nbformat_minor": 5
}
