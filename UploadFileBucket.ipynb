{
 "cells": [
  {
   "cell_type": "code",
   "execution_count": 3,
   "id": "initial_id",
   "metadata": {
    "collapsed": true,
    "ExecuteTime": {
     "end_time": "2024-03-20T15:37:03.299730Z",
     "start_time": "2024-03-20T15:37:03.289264Z"
    }
   },
   "outputs": [],
   "source": [
    "import boto3"
   ]
  },
  {
   "cell_type": "code",
   "execution_count": 15,
   "outputs": [],
   "source": [
    "BUCKET_NAME = 'strava-web-bucket'\n",
    "file = 'map_polyline.html'\n",
    "client = boto3.client('s3', region_name='eu-central-1')  # Cambia come appropriato\n",
    "\n",
    "# Specifica il tipo di contenuto come \"text/html\"\n",
    "extra_args = {\n",
    "    'ContentType': 'text/html',\n",
    "    'ACL': 'public-read'  # Imposta l'ACL su public-read\n",
    "}\n",
    "\n",
    "client.upload_file(file, BUCKET_NAME, file, ExtraArgs=extra_args)"
   ],
   "metadata": {
    "collapsed": false,
    "ExecuteTime": {
     "end_time": "2024-03-20T19:15:46.590041Z",
     "start_time": "2024-03-20T19:15:43.205563Z"
    }
   },
   "id": "fd2f81cd86732caf"
  },
  {
   "cell_type": "code",
   "execution_count": null,
   "outputs": [],
   "source": [],
   "metadata": {
    "collapsed": false
   },
   "id": "a648d4c7bb8b0e8a"
  }
 ],
 "metadata": {
  "kernelspec": {
   "display_name": "Python 3",
   "language": "python",
   "name": "python3"
  },
  "language_info": {
   "codemirror_mode": {
    "name": "ipython",
    "version": 2
   },
   "file_extension": ".py",
   "mimetype": "text/x-python",
   "name": "python",
   "nbconvert_exporter": "python",
   "pygments_lexer": "ipython2",
   "version": "2.7.6"
  }
 },
 "nbformat": 4,
 "nbformat_minor": 5
}
