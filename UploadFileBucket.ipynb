{
 "cells": [
  {
   "cell_type": "code",
   "execution_count": 150,
   "id": "initial_id",
   "metadata": {
    "collapsed": true,
    "ExecuteTime": {
     "end_time": "2024-03-23T15:30:46.560141Z",
     "start_time": "2024-03-23T15:30:46.382182Z"
    }
   },
   "outputs": [],
   "source": [
    "import boto3\n",
    "import os\n",
    "from dotenv import load_dotenv"
   ]
  },
  {
   "cell_type": "code",
   "execution_count": 151,
   "outputs": [
    {
     "data": {
      "text/plain": "True"
     },
     "execution_count": 151,
     "metadata": {},
     "output_type": "execute_result"
    }
   ],
   "source": [
    "dotenv_path = os.path.join('PRIVATE', '.env')\n",
    "load_dotenv(dotenv_path)"
   ],
   "metadata": {
    "collapsed": false,
    "ExecuteTime": {
     "end_time": "2024-03-23T15:30:46.570794Z",
     "start_time": "2024-03-23T15:30:46.562900Z"
    }
   },
   "id": "35d9e14782ad1c83"
  },
  {
   "cell_type": "code",
   "execution_count": 170,
   "outputs": [
    {
     "name": "stdout",
     "output_type": "stream",
     "text": [
      "Uploaded index.html to strava-web-bucket\n",
      "Uploaded map_polyline2.html to strava-web-bucket\n"
     ]
    }
   ],
   "source": [
    "BUCKET_NAME = os.getenv('BUCKET_NAME')\n",
    "files_to_upload = ['index.html', 'map_polyline2.html']  # List of files to upload on AWS\n",
    "client = boto3.client('s3', region_name='eu-central-1')  \n",
    "\n",
    "for file in files_to_upload:\n",
    "    \n",
    "    # detect the type of file\n",
    "    content_type = 'text/html' if file.endswith('.html') else \\\n",
    "                   'text/css' if file.endswith('.css') else \\\n",
    "                   'application/javascript'\n",
    "    \n",
    "    # ACL on public\n",
    "    extra_args = {\n",
    "        'ContentType': content_type,\n",
    "        'ACL': 'public-read'\n",
    "    }\n",
    "\n",
    "    # Upload\n",
    "    client.upload_file(file, BUCKET_NAME, file, ExtraArgs=extra_args)\n",
    "    print(f\"Uploaded {file} to {BUCKET_NAME}\")"
   ],
   "metadata": {
    "collapsed": false,
    "ExecuteTime": {
     "end_time": "2024-03-23T15:55:04.133848Z",
     "start_time": "2024-03-23T15:55:02.933695Z"
    }
   },
   "id": "a648d4c7bb8b0e8a"
  },
  {
   "cell_type": "code",
   "execution_count": null,
   "outputs": [],
   "source": [],
   "metadata": {
    "collapsed": false
   },
   "id": "e6e1e8c5f26538b1"
  }
 ],
 "metadata": {
  "kernelspec": {
   "display_name": "Python 3",
   "language": "python",
   "name": "python3"
  },
  "language_info": {
   "codemirror_mode": {
    "name": "ipython",
    "version": 2
   },
   "file_extension": ".py",
   "mimetype": "text/x-python",
   "name": "python",
   "nbconvert_exporter": "python",
   "pygments_lexer": "ipython2",
   "version": "2.7.6"
  }
 },
 "nbformat": 4,
 "nbformat_minor": 5
}
