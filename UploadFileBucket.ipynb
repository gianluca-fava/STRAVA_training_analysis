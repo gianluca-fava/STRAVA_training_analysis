{
 "cells": [
  {
   "cell_type": "code",
   "execution_count": 175,
   "id": "initial_id",
   "metadata": {
    "collapsed": true,
    "ExecuteTime": {
     "end_time": "2024-03-23T21:24:03.119070Z",
     "start_time": "2024-03-23T21:24:02.898389Z"
    }
   },
   "outputs": [],
   "source": [
    "import boto3\n",
    "import os\n",
    "from dotenv import load_dotenv"
   ]
  },
  {
   "cell_type": "code",
   "execution_count": 177,
   "outputs": [
    {
     "name": "stdout",
     "output_type": "stream",
     "text": [
      "Uploaded index.html to strava-web-bucket\n",
      "Uploaded map_polyline2.html to strava-web-bucket\n"
     ]
    }
   ],
   "source": [
    "dotenv_path = os.path.join('PRIVATE', '.env')\n",
    "load_dotenv(dotenv_path)\n",
    "\n",
    "BUCKET_NAME = os.getenv('BUCKET_NAME')\n",
    "files_to_upload = ['index.html', 'map_polyline2.html']  # List of files to upload on AWS\n",
    "client = boto3.client('s3', region_name='eu-central-1')  \n",
    "\n",
    "for file in files_to_upload:\n",
    "    \n",
    "    # detect the type of file\n",
    "    content_type = 'text/html' if file.endswith('.html') else \\\n",
    "                   'text/css' if file.endswith('.css') else \\\n",
    "                   'application/javascript'\n",
    "    \n",
    "    # ACL on public\n",
    "    extra_args = {\n",
    "        'ContentType': content_type,\n",
    "        'ACL': 'public-read'\n",
    "    }\n",
    "\n",
    "    # Upload\n",
    "    client.upload_file(file, BUCKET_NAME, file, ExtraArgs=extra_args)\n",
    "    print(f\"Uploaded {file} to {BUCKET_NAME}\")"
   ],
   "metadata": {
    "collapsed": false,
    "ExecuteTime": {
     "end_time": "2024-03-23T21:26:32.844284Z",
     "start_time": "2024-03-23T21:26:31.039872Z"
    }
   },
   "id": "a648d4c7bb8b0e8a"
  },
  {
   "cell_type": "code",
   "execution_count": 173,
   "outputs": [
    {
     "name": "stdout",
     "output_type": "stream",
     "text": [
      "93\n",
      "200\n",
      "Elementi mancanti in data_detailed rispetto a data: ['3x3000m con 500m recupero', 'Trazioni al parco', 'Lento 10km', '5 km - sotto la pioggia', 'Rifugio Antelao', 'Lento 10 km', 'Passo staulanza - rifugio città di fiume', 'Lento  8km', '3x3000m with 500m rest', 'Break Time', 'Corsa pomeridiana', 'Corsa pomeridiana', 'Da malga Cate a forcella Sestrier', 'Corsa pomeridiana', 'Lago federa - traccia scorretta \\U0001fae4', 'Corsa pomeridiana', 'Corsa pomeridiana', 'Escursione all’ora di pranzo', 'Camminata sulla neve Pian dele Femene', 'Corsa pomeridiana', 'Palafavera a rifugio città di Fiume', 'Soller - la posa - pian dele femene', 'UD - corsa serale', 'Corsa pomeridiana', 'Lago di coldai invernale', 'Giro al Pizzoc', 'UD - Cesa serale', 'Giro sul Pelmo', 'UD - giro del cormons', 'Escursione Creta di collinetta', 'Camminata in notturna', 'UD - Corsa serale', 'UD corsa parco cormons', 'Ciclismo pomeridiano', 'Ciclismo pomeridiano', 'Ferrata Sass brusai', 'Ciclismo pomeridiano', 'Ferrata degli alleghesi', 'Soller - La pera - La posa - sottocroda', 'Ciclismo serale', 'Corsa pomeridiana', 'Ciclismo pomeridiano', 'Lago di Coldai', 'Total body workout ', 'Soller - La Pera', 'Ferrata strobel ', 'Pull ups - biceps - tricepses ', 'Total body workout ', 'Camminata a Vermigo', 'Lago di covel', 'FOV al lago dei caprioli', 'Camminata cascate di saent', 'Giro lago di malghetta e dei 3 laghi', 'Camminata lago di Molveno', 'Ferrata sci club18', 'Ciclismo serale', 'Body weight workout ', 'Ciclismo serale', 'Body weigh workout', 'Molinetto della corda ', 'Total body workout ', 'Corsa pomeridiana (metà non la ha registrata)', 'Back + chest', 'Ferrata bovero a col Rosà', 'Total body workout ', 'Ciclismo serale', 'Corsa pomeridiana', 'Body weight workout ', 'Total body', 'Rifugio dolomieu a forcella della Lastra', 'Ciclismo pomeridiano', 'Full body ', 'Ciclismo pomeridiano', 'Mountain biking serale', 'Mountain biking serale', 'Hangboard + cose varie', 'Rifugio semenza - drone perso ma ritrovato', 'Corsa pomeridiana', 'Pull', 'Soller - La Pera', 'Soller - Posa ', 'Corsa pomeridiana', 'Ferrata sass brusai', 'Ferrata monte coppolo', 'Escursione all’ora di pranzo', 'Rifugio 7°Alpini', 'La Posa']\n",
      "Elementi mancanti in data rispetto a data_detailed: []\n"
     ]
    }
   ],
   "source": [
    "# Importa il modulo JSON\n",
    "import json\n",
    "\n",
    "with open('data_detailed.json', 'r') as file:\n",
    "    data_detailed = json.load(file)\n",
    "    \n",
    "with open('dataColor.json', 'r') as file:\n",
    "    data = json.load(file)\n",
    "    \n",
    "\n",
    "# Estrai le liste di nomi dalle due liste JSON\n",
    "list_data = [a['name'] for a in data]\n",
    "list_data_detailed = [a['name'] for a in data_detailed]\n",
    "\n",
    "# Trova gli elementi mancanti in list_data_detailed rispetto a list_data\n",
    "missing_in_data_detailed = [name for name in list_data if name not in list_data_detailed]\n",
    "\n",
    "# Trova gli elementi mancanti in list_data rispetto a list_data_detailed\n",
    "missing_in_data = [name for name in list_data_detailed if name not in list_data]\n",
    "\n",
    "print(len(data_detailed))\n",
    "print(len(data))\n",
    "print(\"Elementi mancanti in data_detailed rispetto a data:\", missing_in_data_detailed)\n",
    "print(\"Elementi mancanti in data rispetto a data_detailed:\", missing_in_data)\n",
    "\n"
   ],
   "metadata": {
    "collapsed": false,
    "ExecuteTime": {
     "end_time": "2024-03-23T21:21:07.734688Z",
     "start_time": "2024-03-23T21:21:07.660297Z"
    }
   },
   "id": "e6e1e8c5f26538b1"
  }
 ],
 "metadata": {
  "kernelspec": {
   "display_name": "Python 3",
   "language": "python",
   "name": "python3"
  },
  "language_info": {
   "codemirror_mode": {
    "name": "ipython",
    "version": 2
   },
   "file_extension": ".py",
   "mimetype": "text/x-python",
   "name": "python",
   "nbconvert_exporter": "python",
   "pygments_lexer": "ipython2",
   "version": "2.7.6"
  }
 },
 "nbformat": 4,
 "nbformat_minor": 5
}
